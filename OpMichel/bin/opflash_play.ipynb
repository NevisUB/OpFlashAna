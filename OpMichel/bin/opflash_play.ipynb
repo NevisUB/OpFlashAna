{
 "cells": [
  {
   "cell_type": "code",
   "execution_count": null,
   "metadata": {
    "collapsed": false
   },
   "outputs": [],
   "source": [
    "%matplotlib inline\n",
    "import matplotlib\n",
    "from matplotlib import pyplot as plt\n",
    "import numpy  as np\n",
    "import pandas as pd\n",
    "\n",
    "import root_numpy as rn"
   ]
  },
  {
   "cell_type": "code",
   "execution_count": null,
   "metadata": {
    "collapsed": false
   },
   "outputs": [],
   "source": [
    "#For use with output of OpFlash FlatTreeWriter\n",
    "data = rn.root2rec('./OpMichel/flat_flash.root','_flash_tree')\n",
    "flash_df = pd.DataFrame(data=data)"
   ]
  },
  {
   "cell_type": "code",
   "execution_count": null,
   "metadata": {
    "collapsed": false
   },
   "outputs": [],
   "source": [
    "flash_df = flash_df.set_index('_evt')\n",
    "flash_df.drop('_flashnum',axis=1,inplace=True)"
   ]
  },
  {
   "cell_type": "code",
   "execution_count": null,
   "metadata": {
    "collapsed": false
   },
   "outputs": [],
   "source": [
    "flash_df['_TotalPE'].size"
   ]
  },
  {
   "cell_type": "code",
   "execution_count": null,
   "metadata": {
    "collapsed": false
   },
   "outputs": [],
   "source": [
    "highPE_df = flash_df.query('_TotalPE > 10')\n",
    "highPE_df['_Time'].size"
   ]
  },
  {
   "cell_type": "code",
   "execution_count": null,
   "metadata": {
    "collapsed": true
   },
   "outputs": [],
   "source": [
    "#g returns all two point combintations\n",
    "import itertools \n",
    "g = lambda x : itertools.combinations(x,2)"
   ]
  },
  {
   "cell_type": "code",
   "execution_count": null,
   "metadata": {
    "collapsed": false
   },
   "outputs": [],
   "source": [
    "#Does it work?\n",
    "list(g(np.array([1,2,3])))"
   ]
  },
  {
   "cell_type": "code",
   "execution_count": null,
   "metadata": {
    "collapsed": false
   },
   "outputs": [],
   "source": [
    "#Return time variable from dataframe\n",
    "ttime = lambda x, y, z : x.ix[y].iloc[z]['_Time']\n",
    "\n",
    "#Return distance btweeen two flash points\n",
    "def dist(df,y,z1,z2):\n",
    "    y1 = df.ix[y].iloc[z1]['_YCenter']\n",
    "    y2 = df.ix[y].iloc[z2]['_YCenter']\n",
    "    z1 = df.ix[y].iloc[z1]['_ZCenter']\n",
    "    z2 = df.ix[y].iloc[z2]['_ZCenter']\n",
    "    \n",
    "    return np.sqrt(np.power(y1-y2,2) + np.power(z1-z2,2))"
   ]
  },
  {
   "cell_type": "code",
   "execution_count": null,
   "metadata": {
    "collapsed": false,
    "scrolled": true
   },
   "outputs": [],
   "source": [
    "#The following method:\n",
    "# *loops over events\n",
    "# *checks if there is more than 1 flash in event\n",
    "# *if so, compute spatial separation between flashes, and time difference\n",
    "# *add time differences to td\n",
    "# *add spatial differences to sd\n",
    "\n",
    "td = {}\n",
    "sd = {}\n",
    "\n",
    "for z in highPE_df.index.unique():\n",
    "    print \"Looking at event...\",z\n",
    "    if highPE_df.ix[z][\"_Time\"].size < 2:\n",
    "        print \"Bad... not enough good flashes\"; continue;\n",
    "    td[z] = []\n",
    "    sd[z] = []\n",
    "    \n",
    "    for c in g(np.arange(0,highPE_df.ix[z].index.values.size,1)):\n",
    "        td[z].append((np.abs(ttime(highPE_df,z,c[1]) - ttime(highPE_df,z,c[0]))))\n",
    "        sd[z].append(dist(highPE_df,z,c[0],c[1]))\n",
    "    td[z] = np.array(td[z])\n",
    "    sd[z] = np.array(sd[z])"
   ]
  },
  {
   "cell_type": "code",
   "execution_count": null,
   "metadata": {
    "collapsed": false
   },
   "outputs": [],
   "source": [
    "f1 = pd.DataFrame(sd.items(),columns=['_evt','sdiff']);\n",
    "f1.set_index('_evt',inplace=True);\n",
    "\n",
    "f2 = pd.DataFrame(td.items(),columns=['_evt','tdiff']);\n",
    "f2.set_index('_evt',inplace=True);"
   ]
  },
  {
   "cell_type": "code",
   "execution_count": null,
   "metadata": {
    "collapsed": false
   },
   "outputs": [],
   "source": [
    "#plt.figure(figsize=(8,8))\n",
    "#plt.hist2d(np.hstack(f2['tdiff'].values.flat),np.hstack(f1['sdiff'].values.flat),bins=100)\n",
    "#plt.show()\n",
    "\n",
    "#Histogram things\n",
    "plt.figure(figsize=(8,8))\n",
    "one = plt.hist(np.hstack(f2['tdiff'].values.flat) * 0.5,bins=30,range=(0,15))\n",
    "plt.yscale('log', nonposy='clip')\n",
    "plt.show()\n",
    "\n",
    "plt.figure(figsize=(8,8))\n",
    "plt.hist(np.hstack(f1['sdiff'].values.flat),bins=100,range=(0,1000))\n",
    "plt.show()\n",
    "\n"
   ]
  },
  {
   "cell_type": "code",
   "execution_count": null,
   "metadata": {
    "collapsed": true
   },
   "outputs": [],
   "source": [
    "from scipy.stats import expon"
   ]
  },
  {
   "cell_type": "code",
   "execution_count": null,
   "metadata": {
    "collapsed": false
   },
   "outputs": [],
   "source": [
    "expon.fit(np.hstack(f2['tdiff'].values.flat) * 0.5)"
   ]
  },
  {
   "cell_type": "code",
   "execution_count": null,
   "metadata": {
    "collapsed": false
   },
   "outputs": [],
   "source": [
    "plt.plot(one[1][:one[1].size-1],one[0],\"ro\")\n",
    "plt.yscale('log', nonposy='clip')"
   ]
  },
  {
   "cell_type": "code",
   "execution_count": null,
   "metadata": {
    "collapsed": false
   },
   "outputs": [],
   "source": [
    "one[0].sum()"
   ]
  },
  {
   "cell_type": "code",
   "execution_count": null,
   "metadata": {
    "collapsed": false
   },
   "outputs": [],
   "source": []
  },
  {
   "cell_type": "code",
   "execution_count": null,
   "metadata": {
    "collapsed": true
   },
   "outputs": [],
   "source": []
  }
 ],
 "metadata": {
  "kernelspec": {
   "display_name": "Python 2",
   "language": "python",
   "name": "python2"
  },
  "language_info": {
   "codemirror_mode": {
    "name": "ipython",
    "version": 2
   },
   "file_extension": ".py",
   "mimetype": "text/x-python",
   "name": "python",
   "nbconvert_exporter": "python",
   "pygments_lexer": "ipython2",
   "version": "2.7.5"
  }
 },
 "nbformat": 4,
 "nbformat_minor": 0
}
